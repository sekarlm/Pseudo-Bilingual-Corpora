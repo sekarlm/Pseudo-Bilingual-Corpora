{
 "cells": [
  {
   "cell_type": "code",
   "execution_count": null,
   "metadata": {},
   "outputs": [],
   "source": [
    "import sys, time\n",
    "from gensim.corpora import WikiCorpus\n",
    "\n",
    "ROOT_WIKI_DUMPS = '../data/wiki_dumps/'\n",
    "ROOT_CORPUS = '../data/corpus/'\n",
    "\n",
    "def generate_corpus(input_file, output_file):\n",
    "    output = open(output_file, 'a', encoding='utf-8')\n",
    "    wiki = WikiCorpus(input_file, lemmatize=False, dictionary={}, lower=True)\n",
    "\n",
    "    i = 0\n",
    "    space = \" \"\n",
    "    for text in wiki.get_texts():\n",
    "        article = space.join(text) + \"\\n\"\n",
    "        output.write(article)\n",
    "        i += 1\n",
    "        if (i % 10000 == 0):\n",
    "            print('Saved ' + str(i) + ' articles')\n",
    "    output.close()\n",
    "    print('Processing Wikipedia dump file complete!')\n",
    "\n",
    "def check_corpus(input_file):\n",
    "    while(1):\n",
    "        for lines in range(2):\n",
    "            print(input_file.readline())\n",
    "        user_input = input('>>> Type STOP to quit or hit Enter key for more <<< ')\n",
    "        if user_input == 'STOP':\n",
    "            break\n",
    "\n",
    "def load_corpus(input_file):\n",
    "    print('Loading corpus...')\n",
    "    t1 = time.time()\n",
    "    corpus = input_file.readlines()\n",
    "    t2 = time.time()\n",
    "    total_time = t2 - t1\n",
    "    print('Time to load corpus : {:0.3f}'.format(total_time))\n",
    "    \n",
    "    return corpus"
   ]
  },
  {
   "cell_type": "code",
   "execution_count": 3,
   "metadata": {},
   "outputs": [
    {
     "name": "stdout",
     "output_type": "stream",
     "text": [
      "Requirement already satisfied: wget in c:\\users\\asus\\anaconda3\\lib\\site-packages (3.2)\n"
     ]
    }
   ],
   "source": [
    "!pip install wget"
   ]
  },
  {
   "cell_type": "code",
   "execution_count": null,
   "metadata": {},
   "outputs": [],
   "source": [
    "import wget\n",
    "\n",
    "url = 'https://dumps.wikimedia.org/idwiki/latest/idwiki-latest-pages-articles.xml.bz2'\n",
    "wget.download(url, '../data/wiki_dumps/')"
   ]
  },
  {
   "cell_type": "code",
   "execution_count": null,
   "metadata": {},
   "outputs": [],
   "source": []
  }
 ],
 "metadata": {
  "kernelspec": {
   "display_name": "Python 3",
   "language": "python",
   "name": "python3"
  },
  "language_info": {
   "codemirror_mode": {
    "name": "ipython",
    "version": 3
   },
   "file_extension": ".py",
   "mimetype": "text/x-python",
   "name": "python",
   "nbconvert_exporter": "python",
   "pygments_lexer": "ipython3",
   "version": "3.8.5"
  }
 },
 "nbformat": 4,
 "nbformat_minor": 4
}
